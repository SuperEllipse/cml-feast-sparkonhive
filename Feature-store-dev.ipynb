{
 "cells": [
  {
   "cell_type": "code",
   "execution_count": 1,
   "id": "9588de38-9414-483f-880f-a8395e39451b",
   "metadata": {},
   "outputs": [
    {
     "name": "stderr",
     "output_type": "stream",
     "text": [
      "/home/cdsw/.local/lib/python3.7/site-packages/feast/infra/offline_stores/contrib/spark_offline_store/spark_source.py:78: RuntimeWarning: The spark data source API is an experimental feature in alpha development. This API is unstable and it could and most probably will be changed in the future.\n",
      "  RuntimeWarning,\n",
      "/home/cdsw/.local/lib/python3.7/site-packages/feast/infra/offline_stores/contrib/spark_offline_store/spark.py:125: RuntimeWarning: The spark offline store is an experimental feature in alpha development. Some functionality may still be unstable so functionality can change in the future.\n",
      "  RuntimeWarning,\n",
      "Hive Session ID = e110350d-0ed7-4bd9-a4fc-0ad84b6e4561\n",
      "                                                                                \r"
     ]
    },
    {
     "name": "stdout",
     "output_type": "stream",
     "text": [
      "----- Feature schema -----\n",
      "\n",
      "<class 'pandas.core.frame.DataFrame'>\n",
      "RangeIndex: 3 entries, 0 to 2\n",
      "Data columns (total 6 columns):\n",
      " #   Column                              Non-Null Count  Dtype         \n",
      "---  ------                              --------------  -----         \n",
      " 0   driver_id                           3 non-null      int64         \n",
      " 1   event_timestamp                     3 non-null      datetime64[ns]\n",
      " 2   label_driver_reported_satisfaction  3 non-null      int64         \n",
      " 3   conv_rate                           3 non-null      float32       \n",
      " 4   acc_rate                            3 non-null      float32       \n",
      " 5   avg_daily_trips                     3 non-null      int32         \n",
      "dtypes: datetime64[ns](1), float32(2), int32(1), int64(2)\n",
      "memory usage: 236.0 bytes\n",
      "None\n",
      "\n",
      "----- Example features -----\n",
      "\n",
      "   driver_id     event_timestamp  label_driver_reported_satisfaction  \\\n",
      "0       1001 2021-04-12 10:59:42                                   1   \n",
      "1       1002 2021-04-12 08:12:10                                   5   \n",
      "2       1003 2021-04-12 16:40:26                                   3   \n",
      "\n",
      "   conv_rate  acc_rate  avg_daily_trips  \n",
      "0   0.473602  0.700369              780  \n",
      "1   0.630947  0.906770              497  \n",
      "2   0.146961  0.489271              507  \n"
     ]
    }
   ],
   "source": [
    "from datetime import datetime\n",
    "import pandas as pd\n",
    "\n",
    "from feast import FeatureStore\n",
    "\n",
    "# Note: see https://docs.feast.dev/getting-started/concepts/feature-retrieval for \n",
    "# more details on how to retrieve for all entities in the offline store instead\n",
    "entity_df = pd.DataFrame.from_dict(\n",
    "    {\n",
    "        # entity's join key -> entity values\n",
    "        \"driver_id\": [1001, 1002, 1003],\n",
    "        # \"event_timestamp\" (reserved key) -> timestamps\n",
    "        \"event_timestamp\": [\n",
    "            datetime(2021, 4, 12, 10, 59, 42),\n",
    "            datetime(2021, 4, 12, 8, 12, 10),\n",
    "            datetime(2021, 4, 12, 16, 40, 26),\n",
    "        ],\n",
    "        # (optional) label name -> label values. Feast does not process these\n",
    "        \"label_driver_reported_satisfaction\": [1, 5, 3],\n",
    "    }\n",
    ")\n",
    "\n",
    "store = FeatureStore(repo_path=\"./good_mallard\")\n",
    "\n",
    "training_df = store.get_historical_features(\n",
    "    entity_df=entity_df,\n",
    "    features=[\n",
    "        \"driver_hourly_stats:conv_rate\",\n",
    "        \"driver_hourly_stats:acc_rate\",\n",
    "        \"driver_hourly_stats:avg_daily_trips\",\n",
    "    ],\n",
    ").to_df()\n",
    "\n",
    "print(\"----- Feature schema -----\\n\")\n",
    "print(training_df.info())\n",
    "\n",
    "print()\n",
    "print(\"----- Example features -----\\n\")\n",
    "print(training_df.head())"
   ]
  },
  {
   "cell_type": "code",
   "execution_count": 2,
   "id": "78494895-f104-4282-8c28-caedea0880a5",
   "metadata": {},
   "outputs": [
    {
     "name": "stderr",
     "output_type": "stream",
     "text": [
      "/home/cdsw/.local/lib/python3.7/site-packages/feast/infra/offline_stores/contrib/spark_offline_store/spark_source.py:78: RuntimeWarning: The spark data source API is an experimental feature in alpha development. This API is unstable and it could and most probably will be changed in the future.\n",
      "  RuntimeWarning,\n",
      "/home/cdsw/.local/lib/python3.7/site-packages/feast/infra/offline_stores/contrib/spark_offline_store/spark.py:125: RuntimeWarning: The spark offline store is an experimental feature in alpha development. Some functionality may still be unstable so functionality can change in the future.\n",
      "  RuntimeWarning,\n",
      "                                                                                \r"
     ]
    },
    {
     "name": "stdout",
     "output_type": "stream",
     "text": [
      "\n",
      "----- Example features -----\n",
      "\n",
      "   driver_id            event_timestamp  label_driver_reported_satisfaction  \\\n",
      "0       1001 2022-11-28 12:27:02.362484                                   1   \n",
      "1       1002 2022-11-28 12:27:02.362484                                   5   \n",
      "2       1003 2022-11-28 12:27:02.362484                                   3   \n",
      "\n",
      "   conv_rate  acc_rate  avg_daily_trips  \n",
      "0   0.193120  0.052746              802  \n",
      "1   0.965542  0.295209              967  \n",
      "2   0.551666  0.524331              388  \n"
     ]
    }
   ],
   "source": [
    "# Offline Inferencing \n",
    "\n",
    "entity_df[\"event_timestamp\"] = pd.to_datetime(\"now\", utc=True)\n",
    "training_df = store.get_historical_features(\n",
    "    entity_df=entity_df,\n",
    "    features=[\n",
    "        \"driver_hourly_stats:conv_rate\",\n",
    "        \"driver_hourly_stats:acc_rate\",\n",
    "        \"driver_hourly_stats:avg_daily_trips\",\n",
    "    ],\n",
    ").to_df()\n",
    "\n",
    "print(\"\\n----- Example features -----\\n\")\n",
    "print(training_df.head())"
   ]
  },
  {
   "cell_type": "code",
   "execution_count": 5,
   "id": "2eb26434-9270-448c-9d7d-2e387db1c1b6",
   "metadata": {},
   "outputs": [
    {
     "name": "stdout",
     "output_type": "stream",
     "text": [
      "Materializing \u001b[1m\u001b[32m1\u001b[0m feature views to \u001b[1m\u001b[32m2022-11-28 12:33:41+00:00\u001b[0m into the \u001b[1m\u001b[32msqlite\u001b[0m online store.\n",
      "\n",
      "\u001b[1m\u001b[32mdriver_hourly_stats\u001b[0m from \u001b[1m\u001b[32m2022-11-21 12:33:43+00:00\u001b[0m to \u001b[1m\u001b[32m2022-11-28 12:33:41+00:00\u001b[0m:\n",
      "Pulling latest features from spark offline store\n"
     ]
    },
    {
     "name": "stderr",
     "output_type": "stream",
     "text": [
      "Hive Session ID = 4c7306cc-f8ac-42cb-9c08-4706eb473955\n",
      "/home/cdsw/.local/lib/python3.7/site-packages/feast/infra/offline_stores/contrib/spark_offline_store/spark_source.py:78: RuntimeWarning: The spark data source API is an experimental feature in alpha development. This API is unstable and it could and most probably will be changed in the future.\n",
      "  RuntimeWarning,\n",
      "/home/cdsw/.local/lib/python3.7/site-packages/feast/infra/offline_stores/contrib/spark_offline_store/spark.py:70: RuntimeWarning: The spark offline store is an experimental feature in alpha development. Some functionality may still be unstable so functionality can change in the future.\n",
      "  RuntimeWarning,\n",
      "100%|█████████████████████████████████████████████████████████████████| 5/5 [00:00<00:00, 55.03it/s]\n",
      "/home/cdsw/.local/lib/python3.7/site-packages/feast/infra/offline_stores/contrib/spark_offline_store/spark_source.py:78: RuntimeWarning: The spark data source API is an experimental feature in alpha development. This API is unstable and it could and most probably will be changed in the future.\n",
      "  RuntimeWarning,\n"
     ]
    }
   ],
   "source": [
    "%%bash\n",
    "#ingest data into Online store \n",
    "cd good_mallard\n",
    "CURRENT_TIME=$(date -u +\"%Y-%m-%dT%H:%M:%S\")\n",
    "feast materialize-incremental $CURRENT_TIME"
   ]
  },
  {
   "cell_type": "code",
   "execution_count": 6,
   "id": "1566e2f4-0076-4c0b-80db-0b4deb315e73",
   "metadata": {},
   "outputs": [
    {
     "name": "stdout",
     "output_type": "stream",
     "text": [
      "{'acc_rate': [0.4139282703399658, 0.6532202959060669],\n",
      " 'avg_daily_trips': [950, 969],\n",
      " 'conv_rate': [0.8150131106376648, 0.4830891788005829],\n",
      " 'driver_id': [1004, 1005]}\n"
     ]
    },
    {
     "name": "stderr",
     "output_type": "stream",
     "text": [
      "/home/cdsw/.local/lib/python3.7/site-packages/feast/infra/offline_stores/contrib/spark_offline_store/spark_source.py:78: RuntimeWarning: The spark data source API is an experimental feature in alpha development. This API is unstable and it could and most probably will be changed in the future.\n",
      "  RuntimeWarning,\n"
     ]
    }
   ],
   "source": [
    "# Fetching Feature vectors for inference\n",
    "from pprint import pprint\n",
    "from feast import FeatureStore\n",
    "\n",
    "store = FeatureStore(repo_path=\"./good_mallard\")\n",
    "\n",
    "feature_vector = store.get_online_features(\n",
    "    features=[\n",
    "        \"driver_hourly_stats:conv_rate\",\n",
    "        \"driver_hourly_stats:acc_rate\",\n",
    "        \"driver_hourly_stats:avg_daily_trips\",\n",
    "    ],\n",
    "    entity_rows=[\n",
    "        # {join_key: entity_value}\n",
    "        {\"driver_id\": 1004},\n",
    "        {\"driver_id\": 1005},\n",
    "    ],\n",
    ").to_dict()\n",
    "\n",
    "pprint(feature_vector)\n"
   ]
  },
  {
   "cell_type": "code",
   "execution_count": 10,
   "id": "c6d727d0-6353-4199-8510-423d81874059",
   "metadata": {},
   "outputs": [
    {
     "name": "stdout",
     "output_type": "stream",
     "text": [
      "{'acc_rate': [None, None],\n",
      " 'avg_daily_trips': [None, None],\n",
      " 'conv_rate': [None, None],\n",
      " 'driver_id': [1004, 1005]}\n"
     ]
    }
   ],
   "source": [
    "#USING FEATURE SERVICE TO FETCH ONLINE FEATURES\n",
    "\n",
    "from pprint import pprint\n",
    "from feast import FeatureStore\n",
    "\n",
    "feature_store = FeatureStore('./good_mallard')  # Initialize the feature store\n",
    "\n",
    "feature_service = feature_store.get_feature_service(\"driver_activity_v1\")\n",
    "feature_vector = feature_store.get_online_features(\n",
    "    features=feature_service,\n",
    "    entity_rows=[\n",
    "        # {join_key: entity_value}\n",
    "        {\"driver_id\": 1004},\n",
    "        {\"driver_id\": 1005},\n",
    "    ],\n",
    ").to_dict()\n",
    "pprint(feature_vector)"
   ]
  },
  {
   "cell_type": "code",
   "execution_count": null,
   "id": "5f902a8b-aa18-4b28-b5c0-8b86c03bb3af",
   "metadata": {},
   "outputs": [],
   "source": [
    "%%bash\n",
    "#Step 4: Step 4: Browse your features with the Web UI (experimental)\n",
    "cd good_mallard\n",
    "feast ui"
   ]
  },
  {
   "cell_type": "code",
   "execution_count": null,
   "id": "de0acbe1-2127-4e01-b17f-8ae3740e2da6",
   "metadata": {},
   "outputs": [],
   "source": []
  }
 ],
 "metadata": {
  "kernelspec": {
   "display_name": "Python 3 (ipykernel)",
   "language": "python",
   "name": "python3"
  },
  "language_info": {
   "codemirror_mode": {
    "name": "ipython",
    "version": 3
   },
   "file_extension": ".py",
   "mimetype": "text/x-python",
   "name": "python",
   "nbconvert_exporter": "python",
   "pygments_lexer": "ipython3",
   "version": "3.7.13"
  }
 },
 "nbformat": 4,
 "nbformat_minor": 5
}
